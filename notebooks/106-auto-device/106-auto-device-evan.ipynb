{
 "cells": [
  {
   "attachments": {
    "image.png": {
     "image/png": "[encoded data removed]"
    }
   },
   "cell_type": "markdown",
   "id": "190e8e4c-461f-4521-ae7f-3491fa827ab7",
   "metadata": {
    "tags": []
   },
   "source": [
    "# Cumulative Throughput Test with OpenVINO™\n",
    "\n",
    "This application loads a video, preprocesses every frame, and stores the frames into a framebuffer. It then runs inference using `ssd_mobilenet_v1_fpn_coco` on every frame. It records the amount of time it takes to inference the whole framebuffer. As an output, it reports every object that was detected in the video as well as the total inference processing time.\n",
    "\n",
    "![image.png](attachment:image.png)\n"
   ]
  },
  {
   "cell_type": "markdown",
   "id": "22e8054d-1f4a-4337-bd2e-9e00d9e33820",
   "metadata": {},
   "source": [
    "## Download and convert the model\n",
    "This tutorial uses the [googlenet-v1](https://docs.openvino.ai/latest/omz_models_model_googlenet_v1.html) model from [Open Model Zoo](https://github.com/openvinotoolkit/open_model_zoo/). The googlenet-v1 model is the first of the [Inception](https://github.com/tensorflow/tpu/tree/master/models/experimental/inception) family of models designed to perform image classification. Like other Inception models, googlenet-v1 was pre-trained on the [ImageNet](https://image-net.org/) data set. For more details about this family of models, see the [research paper](https://arxiv.org/abs/1512.00567).\n",
    "\n",
    "The following code downloads googlenet-v1 and converts it to OpenVINO IR format `(model/public/googlenet-v1/FP16/googlenet-v1.xml)`. For more information about Open Model Zoo tools, refer to the [104-model-tools](../104-model-tools/README.md) tutorial."
   ]
  },
  {
   "cell_type": "markdown",
   "id": "3d1860c5",
   "metadata": {},
   "source": [
    "## Download and convert the model\n",
    "\n",
    "We'll use `ssd_mobilenet_v1_fpn_coco` for this application."
   ]
  },
  {
   "cell_type": "code",
   "execution_count": 1,
   "id": "aaaa7568",
   "metadata": {},
   "outputs": [],
   "source": [
    "import os\n",
    "# A directory where the model will be downloaded.\n",
    "base_model_dir = \"model\"\n",
    "\n",
    "# The name of the model from Open Model Zoo\n",
    "#model_name = \"ssdlite_mobilenet_v2\"\n",
    "#model_name = \"efficientdet-d1-tf\"\n",
    "#model_name = \"faster_rcnn_resnet50_coco\"\n",
    "model_name = \"ssd_mobilenet_v1_fpn_coco\"\n",
    "\n",
    "model_path = f\"model/public/{model_name}\"\n",
    "\n",
    "if not os.path.exists(model_path):\n",
    "    download_command = f\"omz_downloader \" \\\n",
    "                       f\"--name {model_name} \" \\\n",
    "                       f\"--output_dir {base_model_dir} \" \\\n",
    "                       f\"--cache_dir {base_model_dir}\"\n",
    "    ! $download_command"
   ]
  },
  {
   "cell_type": "code",
   "execution_count": 2,
   "id": "8bbe8bd9",
   "metadata": {},
   "outputs": [],
   "source": [
    "precision = \"FP16\"\n",
    "\n",
    "# The output path for the conversion.\n",
    "converted_model_path = f\"model/public/{model_name}/{precision}/{model_name}.xml\"\n",
    "\n",
    "if not os.path.exists(converted_model_path):\n",
    "    convert_command = f\"omz_converter \" \\\n",
    "                      f\"--name {model_name} \" \\\n",
    "                      f\"--download_dir {base_model_dir} \" \\\n",
    "                      f\"--precisions {precision}\"\n",
    "    ! $convert_command"
   ]
  },
  {
   "cell_type": "markdown",
   "id": "fcfc461c",
   "metadata": {},
   "source": [
    "## Import modules"
   ]
  },
  {
   "cell_type": "code",
   "execution_count": 3,
   "id": "967c128a",
   "metadata": {},
   "outputs": [
    {
     "name": "stdout",
     "output_type": "stream",
     "text": [
      "['CPU', 'GPU.0', 'GPU.1']\n"
     ]
    }
   ],
   "source": [
    "from pathlib import Path\n",
    "from IPython.display import Markdown, display\n",
    "import cv2\n",
    "import matplotlib.pyplot as plt\n",
    "import numpy as np\n",
    "from openvino.runtime import Core, CompiledModel, AsyncInferQueue, InferRequest\n",
    "import sys\n",
    "import time\n",
    "\n",
    "ie_core = Core()\n",
    "print(ie_core.available_devices)"
   ]
  },
  {
   "cell_type": "markdown",
   "id": "d1e192b1",
   "metadata": {},
   "source": [
    "## Compile Model"
   ]
  },
  {
   "cell_type": "code",
   "execution_count": 24,
   "id": "c547e9e7",
   "metadata": {},
   "outputs": [
    {
     "name": "stdout",
     "output_type": "stream",
     "text": [
      "[<ConstOutput: names[image_tensor, image_tensor:0] shape[1,640,640,3] type: u8>]\n",
      "Model input shape: 1 640 640 3\n"
     ]
    }
   ],
   "source": [
    "# Read the network and corresponding weights from a file.\n",
    "model = ie_core.read_model(model=converted_model_path)\n",
    "# Compile the model for CPU (you can choose manually CPU, GPU, MYRIAD etc.)\n",
    "# or let the engine choose the best available device (AUTO).\n",
    "compiled_model = ie_core.compile_model(model=model, device_name=\"CPU\")\n",
    "#compiled_model = ie_core.compile_model(model=model, device_name=\"AUTO\", config={\"PERFORMANCE_HINT\":\"CUMULATIVE_THROUGHPUT\"})\n",
    "\n",
    "# Get the input and output nodes.\n",
    "input_layer = compiled_model.input(0)\n",
    "output_layer = compiled_model.output(0)\n",
    "\n",
    "input_keys = list(compiled_model.inputs)\n",
    "print(input_keys)\n",
    "\n",
    "# Get the input size.\n",
    "num, height, width, channels = input_layer.shape\n",
    "print('Model input shape:', num, height, width, channels)"
   ]
  },
  {
   "cell_type": "code",
   "execution_count": 26,
   "id": "170aafb8",
   "metadata": {},
   "outputs": [
    {
     "data": {
      "text/plain": [
       "['image_tensor']"
      ]
     },
     "execution_count": 26,
     "metadata": {},
     "output_type": "execute_result"
    }
   ],
   "source": [
    "[i.any_name for i in input_keys]"
   ]
  },
  {
   "cell_type": "markdown",
   "id": "562bc230",
   "metadata": {},
   "source": [
    "## Define Model Output Classes"
   ]
  },
  {
   "cell_type": "code",
   "execution_count": 12,
   "id": "fcb1e371",
   "metadata": {},
   "outputs": [],
   "source": [
    "# COCO classes! (the dataset, not the dog)\n",
    "classes = [\n",
    "    \"background\", \"person\", \"bicycle\", \"car\", \"motorcycle\", \"airplane\", \"bus\", \"train\",\n",
    "    \"truck\", \"boat\", \"traffic light\", \"fire hydrant\", \"street sign\", \"stop sign\",\n",
    "    \"parking meter\", \"bench\", \"bird\", \"cat\", \"dog\", \"horse\", \"sheep\", \"cow\", \"elephant\",\n",
    "    \"bear\", \"zebra\", \"giraffe\", \"hat\", \"backpack\", \"umbrella\", \"shoe\", \"eye glasses\",\n",
    "    \"handbag\", \"tie\", \"suitcase\", \"frisbee\", \"skis\", \"snowboard\", \"sports ball\", \"kite\",\n",
    "    \"baseball bat\", \"baseball glove\", \"skateboard\", \"surfboard\", \"tennis racket\", \"bottle\",\n",
    "    \"plate\", \"wine glass\", \"cup\", \"fork\", \"knife\", \"spoon\", \"bowl\", \"banana\", \"apple\",\n",
    "    \"sandwich\", \"orange\", \"broccoli\", \"carrot\", \"hot dog\", \"pizza\", \"donut\", \"cake\", \"chair\",\n",
    "    \"couch\", \"potted plant\", \"bed\", \"mirror\", \"dining table\", \"window\", \"desk\", \"toilet\",\n",
    "    \"door\", \"tv\", \"laptop\", \"mouse\", \"remote\", \"keyboard\", \"cell phone\", \"microwave\", \"oven\",\n",
    "    \"toaster\", \"sink\", \"refrigerator\", \"blender\", \"book\", \"clock\", \"vase\", \"scissors\",\n",
    "    \"teddy bear\", \"hair drier\", \"toothbrush\", \"hair brush\"\n",
    "]"
   ]
  },
  {
   "cell_type": "markdown",
   "id": "510879cb",
   "metadata": {},
   "source": [
    "## Load and Preprocess Video Frames"
   ]
  },
  {
   "cell_type": "code",
   "execution_count": 13,
   "id": "f7e03b8e",
   "metadata": {},
   "outputs": [
    {
     "name": "stdout",
     "output_type": "stream",
     "text": [
      "Loading video...\n",
      "Video loaded!\n",
      "Frame shape:  (1, 640, 640, 3)\n",
      "Number of frames:  1842\n"
     ]
    }
   ],
   "source": [
    "### Load video\n",
    "#video_file = \"../201-vision-monodepth/data/Coco Walking in Berkeley.mp4\"\n",
    "video_file = \"../401-object-detection-webcam/IMG_4416.MOV\"\n",
    "vid = cv2.VideoCapture(video_file)\n",
    "framebuf = []\n",
    "\n",
    "print('Loading video...')\n",
    "while vid.isOpened():\n",
    "        ret,frame = vid.read()\n",
    "        if not ret:\n",
    "                print('Video loaded!')\n",
    "                break\n",
    "        \n",
    "        # Preprocess frames - convert them to shape expected by model\n",
    "        #resized_frame = cv2.resize(frame, (W, H))\n",
    "        input_frame = cv2.resize(src=frame, dsize=(width, height), interpolation=cv2.INTER_AREA)\n",
    "        input_frame = input_frame[np.newaxis, ...]\n",
    "        \n",
    "        # Append frame to framebuffer\n",
    "        framebuf.append(input_frame)\n",
    "\n",
    "print('Frame shape: ', framebuf[0].shape)\n",
    "print('Number of frames: ', len(framebuf))"
   ]
  },
  {
   "cell_type": "markdown",
   "id": "0a2de05c-6b75-4bc2-814a-08aa4924c2a7",
   "metadata": {
    "tags": []
   },
   "source": [
    "## Set up Asynchronous Pipeline\n",
    "\n",
    "\n",
    "### Callback definition"
   ]
  },
  {
   "cell_type": "code",
   "execution_count": 18,
   "id": "d8b53e1c",
   "metadata": {},
   "outputs": [],
   "source": [
    "def completion_callback(infer_request: InferRequest, results) -> None:\n",
    "    predictions = next(iter(infer_request.results.values()))\n",
    "    results.append(predictions[:10]) # Grab first 10 predictions for this frame"
   ]
  },
  {
   "cell_type": "markdown",
   "id": "3d1826ea",
   "metadata": {},
   "source": [
    "### Create async pipeline"
   ]
  },
  {
   "cell_type": "code",
   "execution_count": 19,
   "id": "e4cc9606",
   "metadata": {},
   "outputs": [],
   "source": [
    "# Create async queue with optimal number of infer requests\n",
    "infer_queue = AsyncInferQueue(compiled_model)\n",
    "infer_queue.set_callback(completion_callback)"
   ]
  },
  {
   "cell_type": "markdown",
   "id": "2872f503",
   "metadata": {},
   "source": [
    "### Perform inference"
   ]
  },
  {
   "cell_type": "code",
   "execution_count": 20,
   "id": "2e0cffa1",
   "metadata": {},
   "outputs": [
    {
     "name": "stdout",
     "output_type": "stream",
     "text": [
      "Total time to inference all frames: 327.842s\n",
      "Time per frame: 0.177981s (5.619 FPS)\n"
     ]
    }
   ],
   "source": [
    "results = []\n",
    "start_time = time.time()\n",
    "for i, input_frame in enumerate(framebuf):\n",
    "    infer_queue.start_async({0: input_frame}, results)\n",
    "\n",
    "infer_queue.wait_all()\n",
    "stop_time = time.time()\n",
    "\n",
    "total_time = stop_time - start_time\n",
    "time_per_frame = total_time / len(framebuf)\n",
    "fps = len(framebuf) / total_time\n",
    "print(f'Total time to inference all frames: {stop_time-start_time:.3f}s')\n",
    "print(f'Time per frame: {time_per_frame:.6f}s ({fps:.3f} FPS)')"
   ]
  },
  {
   "cell_type": "markdown",
   "id": "117bcb8e",
   "metadata": {},
   "source": [
    "### Process results"
   ]
  },
  {
   "cell_type": "code",
   "execution_count": 10,
   "id": "2e2b9bda",
   "metadata": {},
   "outputs": [
    {
     "name": "stdout",
     "output_type": "stream",
     "text": [
      "The following objects were detected in this video:\n",
      "truck\n",
      "car\n"
     ]
    }
   ],
   "source": [
    "# Set minimum detection threshold\n",
    "min_thresh = .6\n",
    "\n",
    "# Initialize list of detected objects\n",
    "detected_objs = []\n",
    "\n",
    "# Go through results for every frame\n",
    "for result in results:\n",
    "    result = np.squeeze(result)\n",
    "\n",
    "    # For each prediction, check if it's above min threshold and hasn't already been detected\n",
    "    for prediction in result:\n",
    "        conf = prediction[2]\n",
    "        obj_class = classes[int(prediction[1])]\n",
    "        if conf > min_thresh and obj_class not in detected_objs:\n",
    "            detected_objs.append(obj_class)\n",
    "\n",
    "# Print list of detected objects\n",
    "print('The following objects were detected in this video:')\n",
    "for obj in detected_objs:\n",
    "    print(obj)"
   ]
  },
  {
   "cell_type": "code",
   "execution_count": null,
   "id": "370ca215",
   "metadata": {},
   "outputs": [],
   "source": []
  }
 ],
 "metadata": {
  "interpreter": {
   "hash": "ae617ccb002f72b3ab6d0069d721eac67ac2a969e83c083c4321cfcab0437cd1"
  },
  "kernelspec": {
   "display_name": "Python 3",
   "language": "python",
   "name": "python3"
  },
  "language_info": {
   "codemirror_mode": {
    "name": "ipython",
    "version": 3
   },
   "file_extension": ".py",
   "mimetype": "text/x-python",
   "name": "python",
   "nbconvert_exporter": "python",
   "pygments_lexer": "ipython3",
   "version": "3.7.15"
  },
  "toc-autonumbering": false,
  "toc-showmarkdowntxt": false,
  "toc-showtags": false
 },
 "nbformat": 4,
 "nbformat_minor": 5
}
