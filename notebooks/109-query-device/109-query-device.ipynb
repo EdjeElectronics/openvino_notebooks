{
 "cells": [
  {
   "cell_type": "markdown",
   "id": "ea9c82f2",
   "metadata": {},
   "source": [
    "# Query OpenVINO Device and Model Properties\n",
    "\n",
    "This notebook uses the [Query Device API](https://docs.openvino.ai/latest/openvino_docs_OV_UG_query_api.html) to check and display the Device Properties for all available compute devices in the system. It also downloads the person-detection-0002 model from Open Model Zoo, compiles it on each device with various performance hints, and displays the resulting Compiled Model properties."
   ]
  },
  {
   "cell_type": "markdown",
   "id": "4918d4d1",
   "metadata": {},
   "source": [
    "## Imports"
   ]
  },
  {
   "cell_type": "code",
   "execution_count": null,
   "id": "2f94cc17",
   "metadata": {},
   "outputs": [],
   "source": [
    "from openvino.runtime import Core"
   ]
  },
  {
   "cell_type": "markdown",
   "id": "0d7757b8",
   "metadata": {},
   "source": [
    "## Check device properties"
   ]
  },
  {
   "cell_type": "code",
   "execution_count": null,
   "id": "871d9fee",
   "metadata": {},
   "outputs": [],
   "source": [
    "# Check device properties\n",
    "ie = Core()\n",
    "for device in ie.available_devices:\n",
    "    print('%s\\tSUPPORTED_PROPERTIES:\\n' % device)\n",
    "    for property_key in ie.get_property(device, 'SUPPORTED_PROPERTIES'):\n",
    "        if property_key not in ('SUPPORTED_METRICS', 'SUPPORTED_CONFIG_KEYS', 'SUPPORTED_PROPERTIES'):\n",
    "            try:\n",
    "                property_val = ie.get_property(device, property_key)\n",
    "            except TypeError:\n",
    "                property_val = 'UNSUPPORTED TYPE'\n",
    "            print('\\t%s: %s' % (property_key, property_val))\n",
    "    print('\\n')"
   ]
  },
  {
   "cell_type": "markdown",
   "id": "2b1e6747",
   "metadata": {},
   "source": [
    "## Download test model\n",
    "\n",
    "We use a pre-trained person detection model from OpenVINO's [Open Model Zoo](https://docs.openvino.ai/nightly/model_zoo.html) to compile on the devices."
   ]
  },
  {
   "cell_type": "code",
   "execution_count": null,
   "id": "75787b5d",
   "metadata": {},
   "outputs": [],
   "source": [
    "# directory where model will be downloaded\n",
    "base_model_dir = \"model\"\n",
    "\n",
    "# model name as named in Open Model Zoo\n",
    "model_name = \"person-detection-0202\"\n",
    "precision = \"FP16\"\n",
    "model_path = (\n",
    "    f\"model/intel/{model_name}/{precision}/{model_name}.xml\"\n",
    ")\n",
    "download_command = f\"omz_downloader \" \\\n",
    "                   f\"--name {model_name} \" \\\n",
    "                   f\"--precision {precision} \" \\\n",
    "                   f\"--output_dir {base_model_dir} \" \\\n",
    "                   f\"--cache_dir {base_model_dir}\"\n",
    "! $download_command"
   ]
  },
  {
   "cell_type": "markdown",
   "id": "c856dfb9",
   "metadata": {},
   "source": [
    "### Compile the model"
   ]
  },
  {
   "cell_type": "code",
   "execution_count": null,
   "id": "c1e60722",
   "metadata": {},
   "outputs": [],
   "source": [
    "# Read model\n",
    "model = ie.read_model(model=model_path)\n",
    "\n",
    "# Compile model and check model properties on each device\n",
    "devices = ie.available_devices + ['AUTO']\n",
    "\n",
    "for device_name in devices:\n",
    "    hints = ['LATENCY','THROUGHPUT']\n",
    "    if device_name == 'AUTO':\n",
    "        hints = hints + ['CUMULATIVE_THROUGHPUT']\n",
    "    for hint in hints:\n",
    "        # Compile model on device with performance hint\n",
    "        compiled_model = ie.compile_model(model, device_name, config={'PERFORMANCE_HINT':'%s' % hint})\n",
    "        \n",
    "        # Print compiled model propreties\n",
    "        print('DEVICE: %s\\tPERFORMANCE HINT: %s\\n' % (device_name,hint))\n",
    "        property_keys = compiled_model.get_property('SUPPORTED_PROPERTIES')\n",
    "\n",
    "        for key in property_keys:\n",
    "            if key != 'SUPPORTED_PROPERTIES':\n",
    "                prop = compiled_model.get_property(key)\n",
    "                print('\\t%s: %s' % (key, prop))\n",
    "            \n",
    "        print('\\n')\n",
    "        del compiled_model"
   ]
  },
  {
   "cell_type": "code",
   "execution_count": null,
   "id": "333feda2",
   "metadata": {},
   "outputs": [],
   "source": []
  }
 ],
 "metadata": {
  "kernelspec": {
   "display_name": "Python 3",
   "language": "python",
   "name": "python3"
  },
  "language_info": {
   "codemirror_mode": {
    "name": "ipython",
    "version": 3
   },
   "file_extension": ".py",
   "mimetype": "text/x-python",
   "name": "python",
   "nbconvert_exporter": "python",
   "pygments_lexer": "ipython3",
   "version": "3.7.13"
  }
 },
 "nbformat": 4,
 "nbformat_minor": 5
}
